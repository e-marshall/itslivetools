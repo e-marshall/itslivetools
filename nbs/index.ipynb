{
 "cells": [
  {
   "cell_type": "code",
   "execution_count": null,
   "metadata": {},
   "outputs": [],
   "source": [
    "#| hide\n",
    "from itslivetools.s3access import *"
   ]
  },
  {
   "cell_type": "markdown",
   "metadata": {},
   "source": [
    "# itslivetools\n",
    "\n",
    "> tools for accessing & working with ITS_LIVE velocity data"
   ]
  },
  {
   "cell_type": "markdown",
   "metadata": {},
   "source": [
    "This file will become your README and also the index of your documentation."
   ]
  },
  {
   "cell_type": "markdown",
   "metadata": {},
   "source": [
    "## Install"
   ]
  },
  {
   "cell_type": "markdown",
   "metadata": {},
   "source": [
    "Install using: \n",
    "```sh\n",
    "pip install itslivetools\n",
    "```"
   ]
  },
  {
   "cell_type": "code",
   "execution_count": null,
   "metadata": {},
   "outputs": [],
   "source": [
    "#|hide \n",
    "#```sh\n",
    "#conda install -c fastai itslivetools\n",
    "#```"
   ]
  },
  {
   "cell_type": "markdown",
   "metadata": {},
   "source": [
    "## How to use"
   ]
  },
  {
   "cell_type": "markdown",
   "metadata": {},
   "source": [
    "This lib provides functions to access ITS_LIVE velocity data including image-pair velocity data stored as zarr datacubes in s3 buckets and velocity mosaics downloaded locally as NetCDF files"
   ]
  },
  {
   "cell_type": "markdown",
   "metadata": {},
   "source": [
    "### `s3access.py` \n",
    "\n",
    ">has tools to query ITSLIVE catalog and extract zarr datacubes via s3 url.\n",
    "\n",
    "### `mosaic_access.py`\n",
    "\n",
    ">organizes and subsets region-wide temporal mosaic of ITS_LIVE velocities so that it is small enough to be worked with locally. (stll messy).\n",
    "\n",
    "### `mosaic_velocity.py` \n",
    "\n",
    "> query objects prepared/written to file in mosaic_access. Specify glacier by id, return object + prelim cataloging by long term median velocity + exploratory analysis"
   ]
  },
  {
   "cell_type": "code",
   "execution_count": null,
   "metadata": {},
   "outputs": [],
   "source": []
  }
 ],
 "metadata": {
  "kernelspec": {
   "display_name": "python3",
   "language": "python",
   "name": "python3"
  }
 },
 "nbformat": 4,
 "nbformat_minor": 4
}
